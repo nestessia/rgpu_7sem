{
 "cells": [
  {
   "cell_type": "markdown",
   "metadata": {},
   "source": [
    "# Функция для численного интегрирования площади под кривой"
   ]
  },
  {
   "cell_type": "code",
   "execution_count": 3,
   "metadata": {},
   "outputs": [
    {
     "name": "stdout",
     "output_type": "stream",
     "text": [
      "Интеграл sin(x) от 0 до pi: 1.9999983550656624\n",
      "Точное значение: 2.0\n"
     ]
    }
   ],
   "source": [
    "def integrate(f, a, b, *, n_iter=1000):\n",
    "    \"\"\"\n",
    "    Численное интегрирование площади под кривой методом трапеций.\n",
    "    \n",
    "    Параметры:\n",
    "    f : функция одной переменной\n",
    "    a : нижний предел интегрирования\n",
    "    b : верхний предел интегрирования\n",
    "    n_iter : количество итераций (по умолчанию 1000)\n",
    "    \n",
    "    Возвращает:\n",
    "    float: приближенное значение интеграла\n",
    "    \"\"\"\n",
    "    h = (b - a) / n_iter\n",
    "    result = 0.5 * (f(a) + f(b))\n",
    "    \n",
    "    for i in range(1, n_iter):\n",
    "        x = a + i * h\n",
    "        result += f(x)\n",
    "    \n",
    "    result *= h\n",
    "    \n",
    "    return result\n",
    "\n",
    "# Пример использования:\n",
    "import math\n",
    "\n",
    "# Интегрирование sin(x) от 0 до pi\n",
    "result = integrate(math.sin, 0, math.pi, n_iter=1000)\n",
    "print(f\"Интеграл sin(x) от 0 до pi: {result}\")\n",
    "print(f\"Точное значение: 2.0\")"
   ]
  },
  {
   "cell_type": "markdown",
   "metadata": {},
   "source": [
    "# Оценка скорости выполнения интегрирования "
   ]
  },
  {
   "cell_type": "code",
   "execution_count": 4,
   "metadata": {},
   "outputs": [
    {
     "name": "stdout",
     "output_type": "stream",
     "text": [
      "n_iter = 10000: 0.1486 секунд (среднее из 100 запусков)\n",
      "n_iter = 100000: 1.4505 секунд (среднее из 100 запусков)\n",
      "n_iter = 1000000: 14.4238 секунд (среднее из 100 запусков)\n",
      "n_iter = 10000: результат = 2.000000\n",
      "n_iter = 100000: результат = 2.000000\n",
      "n_iter = 1000000: результат = 2.000000\n",
      "Точное значение: 2.000000\n"
     ]
    }
   ],
   "source": [
    "import math\n",
    "import timeit\n",
    "\n",
    "def integrate(f, a, b, *, n_iter=1000):\n",
    "    h = (b - a) / n_iter\n",
    "    result = 0.5 * (f(a) + f(b))\n",
    "    for i in range(1, n_iter):\n",
    "        x = a + i * h\n",
    "        result += f(x)\n",
    "    return result * h\n",
    "\n",
    "# Оценка времени выполнения для разных n_iter\n",
    "for n in [10**4, 10**5, 10**6]:\n",
    "    time = timeit.timeit(\n",
    "        f\"integrate(math.sin, 0, math.pi, n_iter={n})\",\n",
    "        globals=globals(),\n",
    "        number=100\n",
    "    )\n",
    "    print(f\"n_iter = {n}: {time:.4f} секунд (среднее из 100 запусков)\")\n",
    "\n",
    "# Вычисление и вывод результатов интегрирования для проверки\n",
    "for n in [10**4, 10**5, 10**6]:\n",
    "    result = integrate(math.sin, 0, math.pi, n_iter=n)\n",
    "    print(f\"n_iter = {n}: результат = {result:.6f}\")\n",
    "\n",
    "print(f\"Точное значение: 2.000000\")"
   ]
  },
  {
   "cell_type": "markdown",
   "metadata": {},
   "source": [
    "# Многопоточное интегрирование"
   ]
  },
  {
   "cell_type": "code",
   "execution_count": 5,
   "metadata": {},
   "outputs": [
    {
     "name": "stdout",
     "output_type": "stream",
     "text": [
      "Многопоточное решение (4 потоков):\n",
      "Время: 0.118943 секунд\n",
      "Результат: 2.000000\n",
      "\n",
      "Последовательное решение:\n",
      "Время: 0.148726 секунд\n",
      "Результат: 2.000000\n",
      "\n",
      "Точное значение: 2.000000\n",
      "\n",
      "Ускорение: 1.25x\n"
     ]
    }
   ],
   "source": [
    "import math\n",
    "import threading\n",
    "import timeit\n",
    "\n",
    "def integrate_part(f, a, b, n, result, lock):\n",
    "    h = (b - a) / n\n",
    "    local_sum = 0\n",
    "    for i in range(n):\n",
    "        x = a + i * h\n",
    "        local_sum += f(x) * h\n",
    "    with lock:\n",
    "        result[0] += local_sum\n",
    "\n",
    "def integrate_threaded(f, a, b, n_iter, n_threads):\n",
    "    result = [0]\n",
    "    lock = threading.Lock()\n",
    "    threads = []\n",
    "    chunk_size = n_iter // n_threads\n",
    "    \n",
    "    for i in range(n_threads):\n",
    "        start = a + (b - a) * i / n_threads\n",
    "        end = a + (b - a) * (i + 1) / n_threads\n",
    "        thread = threading.Thread(target=integrate_part, args=(f, start, end, chunk_size, result, lock))\n",
    "        threads.append(thread)\n",
    "        thread.start()\n",
    "    \n",
    "    for thread in threads:\n",
    "        thread.join()\n",
    "    \n",
    "    return result[0]\n",
    "\n",
    "def integrate_sequential(f, a, b, n_iter):\n",
    "    h = (b - a) / n_iter\n",
    "    result = 0\n",
    "    for i in range(n_iter):\n",
    "        x = a + i * h\n",
    "        result += f(x) * h\n",
    "    return result\n",
    "\n",
    "# Параметры интегрирования\n",
    "f = math.sin\n",
    "a, b = 0, math.pi\n",
    "n_iter = 10**6\n",
    "n_threads = 4\n",
    "\n",
    "# Измерение времени для многопоточного решения\n",
    "time_threaded = timeit.timeit(\n",
    "    lambda: integrate_threaded(f, a, b, n_iter, n_threads),\n",
    "    number=10\n",
    ") / 10\n",
    "\n",
    "# Измерение времени для последовательного решения\n",
    "time_sequential = timeit.timeit(\n",
    "    lambda: integrate_sequential(f, a, b, n_iter),\n",
    "    number=10\n",
    ") / 10\n",
    "\n",
    "# Вычисление результатов для проверки точности\n",
    "result_threaded = integrate_threaded(f, a, b, n_iter, n_threads)\n",
    "result_sequential = integrate_sequential(f, a, b, n_iter)\n",
    "\n",
    "print(f\"Многопоточное решение ({n_threads} потоков):\")\n",
    "print(f\"Время: {time_threaded:.6f} секунд\")\n",
    "print(f\"Результат: {result_threaded:.6f}\")\n",
    "\n",
    "print(f\"\\nПоследовательное решение:\")\n",
    "print(f\"Время: {time_sequential:.6f} секунд\")\n",
    "print(f\"Результат: {result_sequential:.6f}\")\n",
    "\n",
    "print(f\"\\nТочное значение: 2.000000\")\n",
    "\n",
    "print(f\"\\nУскорение: {time_sequential / time_threaded:.2f}x\")"
   ]
  }
 ],
 "metadata": {
  "kernelspec": {
   "display_name": "venv",
   "language": "python",
   "name": "python3"
  },
  "language_info": {
   "codemirror_mode": {
    "name": "ipython",
    "version": 3
   },
   "file_extension": ".py",
   "mimetype": "text/x-python",
   "name": "python",
   "nbconvert_exporter": "python",
   "pygments_lexer": "ipython3",
   "version": "3.12.4"
  }
 },
 "nbformat": 4,
 "nbformat_minor": 2
}
