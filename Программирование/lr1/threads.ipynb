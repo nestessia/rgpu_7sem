{
 "cells": [
  {
   "cell_type": "code",
   "execution_count": 1,
   "metadata": {},
   "outputs": [],
   "source": [
    "# Импорт необходимых библиотек\n",
    "import threading\n",
    "import time\n",
    "import requests\n",
    "import random"
   ]
  },
  {
   "cell_type": "markdown",
   "metadata": {},
   "source": [
    "# 1.1: Создание нескольких потоков и вывод их имен:"
   ]
  },
  {
   "cell_type": "code",
   "execution_count": 2,
   "metadata": {},
   "outputs": [
    {
     "name": "stdout",
     "output_type": "stream",
     "text": [
      "Привет из потока: Поток-1\n",
      "Привет из потока: Поток-2\n",
      "Привет из потока: Поток-3\n",
      "Привет из потока: Поток-4\n",
      "Привет из потока: Поток-5\n",
      "Все потоки завершили работу\n"
     ]
    }
   ],
   "source": [
    "def print_thread_name():\n",
    "    thread_name = threading.current_thread().name\n",
    "    print(f\"Привет из потока: {thread_name}\")\n",
    "    time.sleep(1)\n",
    "\n",
    "threads = []\n",
    "for i in range(5):\n",
    "    thread = threading.Thread(target=print_thread_name, name=f\"Поток-{i+1}\")\n",
    "    threads.append(thread)\n",
    "    thread.start()\n",
    "\n",
    "for thread in threads:\n",
    "    thread.join()\n",
    "\n",
    "print(\"Все потоки завершили работу\")"
   ]
  },
  {
   "cell_type": "markdown",
   "metadata": {},
   "source": [
    "# 1.2: Одновременная загрузка нескольких файлов:"
   ]
  },
  {
   "cell_type": "code",
   "execution_count": 4,
   "metadata": {},
   "outputs": [
    {
     "name": "stdout",
     "output_type": "stream",
     "text": [
      "Загружено: image_1.jpg\n",
      "Загружено: image_3.jpg\n",
      "Загружено: image_2.jpg\n",
      "Все изображения загружены\n"
     ]
    }
   ],
   "source": [
    "def download_image(url, filename):\n",
    "    response = requests.get(url)\n",
    "    if response.status_code == 200:\n",
    "        with open(filename, 'wb') as file:\n",
    "            file.write(response.content)\n",
    "        print(f\"Загружено: {filename}\")\n",
    "    else:\n",
    "        print(f\"Ошибка при загрузке {filename}\")\n",
    "\n",
    "urls = [\n",
    "    \"https://cs.pikabu.ru/post_img/big/2013/11/05/10/1383664503_2062449881.jpg\",\n",
    "    \"https://avatars.mds.yandex.net/i?id=e64270ae438c4d1c18ca886b12a0ddb7_l-4492191-images-thumbs&n=13\",\n",
    "    \"https://yt3.googleusercontent.com/74M5SmtK5ASko66SQAhJCWPVQBRt7tozfwv0Oi8y1-hNS3Zdal2az1t2HUSuy7ybhFBWictc2EA=s900-c-k-c0x00ffffff-no-rj\",\n",
    "]\n",
    "\n",
    "threads = []\n",
    "for i, url in enumerate(urls):\n",
    "    filename = f\"image_{i+1}.jpg\"\n",
    "    thread = threading.Thread(target=download_image, args=(url, filename))\n",
    "    threads.append(thread)\n",
    "    thread.start()\n",
    "\n",
    "for thread in threads:\n",
    "    thread.join()\n",
    "\n",
    "print(\"Все изображения загружены\")"
   ]
  },
  {
   "cell_type": "markdown",
   "metadata": {},
   "source": [
    "# 1.3: Выполнение одновременных HTTP-запросов:"
   ]
  },
  {
   "cell_type": "code",
   "execution_count": 6,
   "metadata": {},
   "outputs": [
    {
     "name": "stdout",
     "output_type": "stream",
     "text": [
      "URL: https://moodle.herzen.spb.ru, Статус: 200\n",
      "URL: https://www.youtube.com/, Статус: 200\n",
      "URL: https://www.github.com, Статус: 200\n",
      "Все запросы выполнены\n"
     ]
    }
   ],
   "source": [
    "def make_request(url):\n",
    "    response = requests.get(url)\n",
    "    print(f\"URL: {url}, Статус: {response.status_code}\")\n",
    "\n",
    "urls = [\n",
    "    \"https://moodle.herzen.spb.ru\",\n",
    "    \"https://www.youtube.com/\",\n",
    "    \"https://www.github.com\",\n",
    "]\n",
    "\n",
    "threads = []\n",
    "for url in urls:\n",
    "    thread = threading.Thread(target=make_request, args=(url,))\n",
    "    threads.append(thread)\n",
    "    thread.start()\n",
    "\n",
    "for thread in threads:\n",
    "    thread.join()\n",
    "\n",
    "print(\"Все запросы выполнены\")"
   ]
  },
  {
   "cell_type": "markdown",
   "metadata": {},
   "source": [
    "# Вычисление факториала числа с использованием нескольких потоков:"
   ]
  },
  {
   "cell_type": "code",
   "execution_count": 7,
   "metadata": {},
   "outputs": [
    {
     "name": "stdout",
     "output_type": "stream",
     "text": [
      "Факториал 20 равен 2432902008176640000\n"
     ]
    }
   ],
   "source": [
    "def factorial_range(start, end, result):\n",
    "    fact = 1\n",
    "    for i in range(start, end + 1):\n",
    "        fact *= i\n",
    "    result.append(fact)\n",
    "\n",
    "def threaded_factorial(n, num_threads):\n",
    "    results = []\n",
    "    threads = []\n",
    "    chunk_size = n // num_threads\n",
    "    \n",
    "    for i in range(num_threads):\n",
    "        start = i * chunk_size + 1\n",
    "        end = start + chunk_size - 1 if i < num_threads - 1 else n\n",
    "        thread = threading.Thread(target=factorial_range, args=(start, end, results))\n",
    "        threads.append(thread)\n",
    "        thread.start()\n",
    "    \n",
    "    for thread in threads:\n",
    "        thread.join()\n",
    "    \n",
    "    final_result = 1\n",
    "    for result in results:\n",
    "        final_result *= result\n",
    "    \n",
    "    return final_result\n",
    "\n",
    "n = 20\n",
    "num_threads = 4\n",
    "result = threaded_factorial(n, num_threads)\n",
    "print(f\"Факториал {n} равен {result}\")"
   ]
  },
  {
   "cell_type": "markdown",
   "metadata": {},
   "source": [
    "# 1.5: Многопоточный алгоритм быстрой сортировки:"
   ]
  },
  {
   "cell_type": "code",
   "execution_count": 9,
   "metadata": {},
   "outputs": [
    {
     "name": "stdout",
     "output_type": "stream",
     "text": [
      "Исходный массив: [4, 64, 32, 75, 72, 10, 99, 23, 96, 33, 99, 6, 48, 75, 82, 66, 10, 30, 5, 9, 69, 33, 64, 67, 48, 88, 23, 25, 36, 15, 84, 25, 47, 56, 48, 59, 16, 35, 74, 45, 8, 23, 35, 18, 36, 88, 25, 86, 19, 30, 66, 62, 60, 99, 26, 3, 80, 85, 14, 22, 92, 33, 74, 99, 42, 45, 95, 66, 24, 16, 57, 34, 26, 86, 67, 53, 56, 65, 56, 57, 40, 87, 73, 44, 65, 4, 99, 73, 73, 57, 85, 5, 37, 74, 44, 79, 21, 31, 67, 6]\n",
      "Отсортированный массив: [3, 4, 4, 5, 5, 6, 6, 8, 9, 10, 10, 14, 15, 16, 16, 18, 19, 21, 22, 23, 23, 23, 24, 25, 25, 25, 26, 26, 30, 30, 31, 32, 33, 33, 33, 34, 35, 35, 36, 36, 37, 40, 42, 44, 44, 45, 45, 47, 48, 48, 48, 53, 56, 56, 56, 57, 57, 57, 59, 60, 62, 64, 64, 65, 65, 66, 66, 66, 67, 67, 67, 69, 72, 73, 73, 73, 74, 74, 74, 75, 75, 79, 80, 82, 84, 85, 85, 86, 86, 87, 88, 88, 92, 95, 96, 99, 99, 99, 99, 99]\n"
     ]
    }
   ],
   "source": [
    "def partition(arr, low, high):\n",
    "    pivot = arr[high]\n",
    "    i = low - 1\n",
    "    for j in range(low, high):\n",
    "        if arr[j] <= pivot:\n",
    "            i += 1\n",
    "            arr[i], arr[j] = arr[j], arr[i]\n",
    "    arr[i + 1], arr[high] = arr[high], arr[i + 1]\n",
    "    return i + 1\n",
    "\n",
    "def quicksort(arr, low, high):\n",
    "    if low < high:\n",
    "        pi = partition(arr, low, high)\n",
    "        left_thread = threading.Thread(target=quicksort, args=(arr, low, pi - 1))\n",
    "        right_thread = threading.Thread(target=quicksort, args=(arr, pi + 1, high))\n",
    "        left_thread.start()\n",
    "        right_thread.start()\n",
    "        left_thread.join()\n",
    "        right_thread.join()\n",
    "\n",
    "# Пример использования\n",
    "arr = [random.randint(1, 100) for _ in range(100)]\n",
    "print(\"Исходный массив:\", arr)\n",
    "\n",
    "quicksort(arr, 0, len(arr) - 1)\n",
    "print(\"Отсортированный массив:\", arr)"
   ]
  }
 ],
 "metadata": {
  "kernelspec": {
   "display_name": "venv",
   "language": "python",
   "name": "python3"
  },
  "language_info": {
   "codemirror_mode": {
    "name": "ipython",
    "version": 3
   },
   "file_extension": ".py",
   "mimetype": "text/x-python",
   "name": "python",
   "nbconvert_exporter": "python",
   "pygments_lexer": "ipython3",
   "version": "3.12.4"
  }
 },
 "nbformat": 4,
 "nbformat_minor": 2
}
